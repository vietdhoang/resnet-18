{
  "nbformat": 4,
  "nbformat_minor": 0,
  "metadata": {
    "colab": {
      "name": "a3_resnet18_data_augmented.ipynb",
      "provenance": [],
      "collapsed_sections": [
        "FQplwxmylF69",
        "BvFevlrQl36t",
        "zQX0PhQaWFqB"
      ]
    },
    "kernelspec": {
      "name": "python3",
      "display_name": "Python 3"
    },
    "accelerator": "GPU"
  },
  "cells": [
    {
      "cell_type": "markdown",
      "metadata": {
        "id": "C7GwHcCHZiMn"
      },
      "source": [
        "# Multi-label Classification of Image Data"
      ]
    },
    {
      "cell_type": "code",
      "metadata": {
        "colab": {
          "base_uri": "https://localhost:8080/"
        },
        "id": "JoGh_16hEnz8",
        "outputId": "705b8040-35a1-4bb9-dcf5-7d2d548e4755"
      },
      "source": [
        "from google.colab import drive\n",
        "drive.mount('/content/drive/')"
      ],
      "execution_count": null,
      "outputs": [
        {
          "output_type": "stream",
          "text": [
            "Mounted at /content/drive/\n"
          ],
          "name": "stdout"
        }
      ]
    },
    {
      "cell_type": "markdown",
      "metadata": {
        "id": "FQplwxmylF69"
      },
      "source": [
        "### **Importing**\n",
        "We first import all the necessary packages and select the device being used"
      ]
    },
    {
      "cell_type": "code",
      "metadata": {
        "colab": {
          "base_uri": "https://localhost:8080/"
        },
        "id": "eH9P8TRnkui0",
        "outputId": "e94fd5fc-9dcd-4488-cdef-7cbf99aa399b"
      },
      "source": [
        "# Used to define CNN\n",
        "import numpy as np\n",
        "import torch\n",
        "import torch.nn as nn\n",
        "import torch.nn.functional as F\n",
        "\n",
        "# Used for training\n",
        "from sklearn.model_selection import train_test_split\n",
        "import torch.optim as optim\n",
        "from torch.utils.data import DataLoader, Dataset\n",
        "import matplotlib.pyplot as plt\n",
        "import torchvision\n",
        "import time\n",
        "\n",
        "# I/O\n",
        "import h5py\n",
        "import pandas as pd\n",
        "from os.path import basename as basename\n",
        "from re import split as split\n",
        "import pickle\n",
        "\n",
        "import warnings\n",
        "warnings.filterwarnings('ignore')\n",
        "\n",
        "# Print out the device that will be used (CPU or GPU)\n",
        "device = torch.device('cuda' if torch.cuda.is_available() else 'cpu')\n",
        "print(\"Device used: {}\".format(device))"
      ],
      "execution_count": null,
      "outputs": [
        {
          "output_type": "stream",
          "text": [
            "Device used: cuda\n"
          ],
          "name": "stdout"
        }
      ]
    },
    {
      "cell_type": "markdown",
      "metadata": {
        "id": "BvFevlrQl36t"
      },
      "source": [
        "### **ResNet18**\n",
        "This architecture for this CNN is based on what was proposed by Microsoft Research (He et al., 2015):\n",
        "\n",
        "https://arxiv.org/pdf/1512.03385.pdf?fbclid=IwAR1EztDqkmKR_V6Vb8CFg5BrG757PZ070xhuySJgSdXN9DPaOHft9AnEXHE\n",
        "\n",
        "This implementation is a modified version from the following tutorial:\n",
        "\n",
        "https://jarvislabs.ai/blogs/resnet\n"
      ]
    },
    {
      "cell_type": "markdown",
      "metadata": {
        "id": "XIj1mYS5pPR1"
      },
      "source": [
        "The structure of this CNN is based on having blocks. These blocks are used to make a layer. In ResNet 18, 2 blocks make a layer. This option can be changed if the user wants ResNet 34 instead.\n",
        "\n",
        "\n",
        "*   The `Block` class is composed of two convolutional filters. The kernel size for both is 3x3 with 1 padding to maintain dimensions. If the user would like to change the dimesions of the output, they can change the stride, and the output channel number of the block. `downsample` is used to make sure that the skip connections are the appropriate dimensions before being added.\n",
        "*   The `ResNet` class is where the CNN is defined. The `_make_layer` function uses `Block` objects to make the layers. By design, ResNet18 has 4 layers, each composed of two blocks, which each contain 2 convolutional filters. Therefore, there are 16 filters in the 4 layers. There is one filter at the beginning (`conv1`) and a fully connected layer at the very end. This makes 18 filters in total. \n",
        "\n"
      ]
    },
    {
      "cell_type": "code",
      "metadata": {
        "id": "7j3UO9F5grJI"
      },
      "source": [
        "class Block(nn.Module):\n",
        "    def __init__(self, inplanes, planes, stride=1, downsample=None):\n",
        "        super().__init__()\n",
        "\n",
        "        self.relu = nn.ReLU(inplace=True)\n",
        "\n",
        "        # First convolutional filter. Batch norm and Relu activation are applied after.\n",
        "        self.conv1 = nn.Conv2d(inplanes, planes, kernel_size=3, stride=stride,\n",
        "                     padding=1, bias=False)\n",
        "        self.bn1 = nn.BatchNorm2d(planes)\n",
        "\n",
        "        # Second convolutional filter. Batch norm and Relu activation are applied after.\n",
        "        self.conv2 = nn.Conv2d(planes, planes, kernel_size=3, stride=1,\n",
        "                     padding=1, bias=False)\n",
        "        self.bn2 = nn.BatchNorm2d(planes)\n",
        "        self.downsample = downsample\n",
        "        self.stride = stride\n",
        "\n",
        "    def forward(self, x):\n",
        "        identity = x\n",
        "\n",
        "        out = self.conv1(x)\n",
        "        out = self.bn1(out)\n",
        "        out = self.relu(out)\n",
        "\n",
        "        out = self.conv2(out)\n",
        "        out = self.bn2(out)\n",
        "\n",
        "        if self.downsample is not None:\n",
        "            identity = self.downsample(x)\n",
        "\n",
        "        # F(x) + x\n",
        "        out += identity\n",
        "        out = self.relu(out)\n",
        "\n",
        "        return out"
      ],
      "execution_count": null,
      "outputs": []
    },
    {
      "cell_type": "code",
      "metadata": {
        "id": "wiBlIuL8LkAu"
      },
      "source": [
        "class ResNet(nn.Module):\n",
        "    def __init__(self, block=Block, layers=[2, 2, 2, 2], num_classes=55):\n",
        "        super().__init__()\n",
        "\n",
        "        self.inplanes = 64\n",
        "\n",
        "        # Changed kernel: 7->5; stride: 2->1, padding: 3->2\n",
        "        # This is an adjustment to take into account the fact that our images\n",
        "        # are 64x64, not 224x224.\n",
        "        self.conv1 = nn.Conv2d(1, self.inplanes, kernel_size=5, stride=1, padding=2, \n",
        "                               bias=False)\n",
        "        self.bn1 = nn.BatchNorm2d(self.inplanes)\n",
        "        self.relu = nn.ReLU(inplace=True)\n",
        "\n",
        "        # Adaptive maxpool allows us to define the output dimensions.\n",
        "        self.maxpool = nn.AdaptiveMaxPool2d((32,32))\n",
        "\n",
        "        # These are the layers that make up the bulk of ResNet. The first layer\n",
        "        # does not halve the image dimensions (since stride=1 for the first layer\n",
        "        # and 2 everywhere else). \n",
        "        self.layer1 = self._make_layer(block, 64, 128, layers[0])\n",
        "        self.layer2 = self._make_layer(block, 128, 256, layers[1], stride=2)\n",
        "        self.layer3 = self._make_layer(block, 256, 512, layers[2], stride=2)\n",
        "        self.layer4 = self._make_layer(block, 512, 1024, layers[3], stride=2)\n",
        "\n",
        "        self.avgpool = nn.AdaptiveAvgPool2d((1, 1))\n",
        "        self.fc = nn.Linear(1024, num_classes)\n",
        "\n",
        "    def forward(self, x):           # Notation: num_channelsxWxH\n",
        "        x = self.conv1(x)           # In: 1x64x64     Out: 64x64x64\n",
        "        x = self.bn1(x)\n",
        "        x = self.relu(x)\n",
        "        x = self.maxpool(x)         # In: 64x64x64    Out: 64x32x32\n",
        "\n",
        "        x = self.layer1(x)          # In: 64x32x32    Out: 128x32x32\n",
        "        x = self.layer2(x)          # In: 128x32x32   Out: 256x16x16\n",
        "        x = self.layer3(x)          # In: 256x16x16   Out: 512x8x8\n",
        "        x = self.layer4(x)          # In: 512x8x8     Out: 1024x4x4\n",
        "\n",
        "        x = self.avgpool(x)         # In: 1024x4x4    Out: 1024x1x1\n",
        "        x = torch.flatten(x, 1)     \n",
        "        x = self.fc(x)\n",
        "\n",
        "        return x\n",
        "    \n",
        "    # Make the layer\n",
        "    def _make_layer(self, block, inplanes, planes, blocks, stride=1):\n",
        "        downsample = None\n",
        "\n",
        "        # If the dimensions will be changed (either by having strides>1\n",
        "        # or by increasing the number of channels), then make sure that the\n",
        "        # identity mapping in adjusted accordingly)\n",
        "        if stride != 1 or inplanes != planes:\n",
        "            downsample = nn.Sequential(\n",
        "                nn.Conv2d(inplanes, planes, 1, stride, bias=False),\n",
        "                nn.BatchNorm2d(planes),\n",
        "            )\n",
        "\n",
        "        # Create a list to store all the blocks\n",
        "        layers = []\n",
        "        layers.append(block(inplanes, planes, stride, downsample))\n",
        "        inplanes = planes\n",
        "        for _ in range(1, blocks):\n",
        "            layers.append(block(inplanes, planes))\n",
        "        return nn.Sequential(*layers)"
      ],
      "execution_count": null,
      "outputs": []
    },
    {
      "cell_type": "markdown",
      "metadata": {
        "id": "jev6GBV5mHUW"
      },
      "source": [
        "### **Training and validation**\n",
        "We define various classes and functions for training.\n",
        "\n",
        "\n",
        "*   The `MNISTDataset` class allows the applications of transformations to the dataset for data augmentation. It will also be used for Pytorch's `Dataloader` iterable.\n",
        "*   `imshow` shows the images during training for diagnostic purposes\n",
        "*   `train` trains the ResNet. It uses the generator `run` to train the model and test its validation and test accuracy"
      ]
    },
    {
      "cell_type": "code",
      "metadata": {
        "id": "Ikfo7J2G496a"
      },
      "source": [
        "class MNISTDataset(Dataset):\n",
        "    def __init__(self, x, y, transform=None):\n",
        "        self.transform = transform\n",
        "        self.x = x\n",
        "        self.y = y\n",
        "\n",
        "    def __getitem__(self, idx):\n",
        "        sample = self.x[idx]\n",
        "        if self.transform:\n",
        "            sample = self.transform(self.x[idx])\n",
        "\n",
        "        label = self.y[idx]\n",
        "\n",
        "        return sample, label\n",
        "\n",
        "    def __len__(self):\n",
        "        return len(self.x)\n"
      ],
      "execution_count": null,
      "outputs": []
    },
    {
      "cell_type": "code",
      "metadata": {
        "id": "P03RJnitYmrO"
      },
      "source": [
        "def imshow(img):\n",
        "    npimg = img.numpy().astype('uint8')\n",
        "    plt.imshow(np.transpose(npimg, (1, 2, 0)))\n",
        "    plt.show()\n",
        "\n",
        "def train(x_tr, y_tr, x_val, y_val, num_epochs, batch_size, \n",
        "          learning_rate=0.01, momentum=0.9, save_history=False):\n",
        "    \n",
        "    # Start stopwatch\n",
        "    t0 = time.time()\n",
        "\n",
        "    best_net = None\n",
        "    best_val = 0\n",
        "    best_epoch = 0\n",
        "\n",
        "    losses = []\n",
        "    train_accs = []\n",
        "    val_accs = []\n",
        "    \n",
        "    net_generator = run(x_tr, y_tr, num_epochs, batch_size, \n",
        "                        lr=learning_rate, m=momentum)\n",
        " \n",
        "    # Iterates over all nets return by run(). It tests training and accuracy\n",
        "    # every 5 epochs and updates the best net and validation accuracy\n",
        "    for net, loss, epoch in net_generator:\n",
        "        losses.append(loss)\n",
        "\n",
        "        # Make predictions every 5 epochs\n",
        "        if (epoch)%5 == 0:\n",
        "            y_tr_pred = predict(net, x_tr)\n",
        "            train_acc = accuracy(y_tr_pred, reverseOneHot(y_tr))\n",
        "            train_accs.append(train_acc)\n",
        "\n",
        "            y_val_pred = predict(net, x_val)\n",
        "            val_acc = accuracy(y_val_pred, y_val)\n",
        "            val_accs.append(val_acc)\n",
        "\n",
        "            # If accuracy has improved, update the net\n",
        "            if val_acc > best_val:\n",
        "                best_net = net\n",
        "                best_val = val_acc\n",
        "                best_epoch = epoch + 1\n",
        "            \n",
        "            print(\"###########\")\n",
        "            print(\"Epoch: {}\".format(epoch+1))\n",
        "            print(\"Training accuracy: {}\".format(train_acc))\n",
        "            print(\"Validation accuracy: {}\".format(val_acc))\n",
        "\n",
        "        # Save the model every 25 epochs\n",
        "        if (epoch+1)%25==0 and save_history:\n",
        "            e = epoch+1\n",
        "            PATH = '/content/drive/MyDrive/Colab/a3/resnet18/resnet18_'+str(e)+'ep_aug.pth'\n",
        "            torch.save(net.state_dict(), PATH)\n",
        "\n",
        "    # End stopwatch\n",
        "    t1 = time.time()\n",
        "\n",
        "    # Print the time it took to train\n",
        "    m, s = divmod(t1-t0, 60)\n",
        "    h, m = divmod(m, 60)\n",
        "    print(\"Training finished\")\n",
        "    print(\"Time elapsed: {} h {} min {:.3f} seconds\".format(h,m,s))\n",
        "    print(\"Highest validation accuracy: {}%; Epoch: {}\".format(best_val*100, best_epoch))\n",
        "\n",
        "    return best_net, [best_val, best_epoch], [train_accs, val_accs, losses]\n",
        "\n",
        "def run(x, y, num_epochs, batch_size, lr=0.01, m=0.9):   \n",
        "\n",
        "    # Create transformation for data augmentation. We only used shear since\n",
        "    # other transformations (rotation, translation, etc.) weren't applicable for\n",
        "    # this task\n",
        "    transforms = torchvision.transforms.RandomAffine(0, shear=25)\n",
        "\n",
        "    # Concatonate the original data and the old data.\n",
        "    orig_data = MNISTDataset(x,y)\n",
        "    transf_data = MNISTDataset(x,y, transform=transforms)\n",
        "    concat = torch.utils.data.ConcatDataset([orig_data, transf_data])\n",
        "\n",
        "    # Create the Dataloader\n",
        "    train_loader = torch.utils.data.DataLoader(concat, batch_size=batch_size, shuffle=True)\n",
        "\n",
        "    # Initialize the CNN and transfer it to the device (either CPU or GPU)\n",
        "    net = ResNet().to(device)\n",
        "\n",
        "    # Cost function is cross-entropy loss and optimzer is gradient descent\n",
        "    criterion = nn.BCEWithLogitsLoss()\n",
        "    optimizer = torch.optim.SGD(net.parameters(), lr=lr, momentum=m)\n",
        "    \n",
        "    # Pass the entire dataset through the CNN num_epochs times\n",
        "    for epoch in range(num_epochs):\n",
        "        losses = [] \n",
        "\n",
        "        # Pass the dataset through the CNN in small batches \n",
        "        for i, (images, labels) in enumerate(train_loader):\n",
        "            # Transfer the images and labels to the device\n",
        "            images = images.to(device)\n",
        "            labels = labels.to(device)\n",
        "            \n",
        "            # Display images for diagnostic purposes\n",
        "            # imshow(torchvision.utils.make_grid(images.cpu()[0:2]))\n",
        "\n",
        "            # Forward pass: get the output of the CNN and calculate the loss\n",
        "            outputs = net(images)\n",
        "            loss = criterion(outputs, labels)\n",
        "            losses.append(loss.item())\n",
        "\n",
        "            # Backward and optimize\n",
        "            optimizer.zero_grad()\n",
        "            loss.backward()\n",
        "            optimizer.step()\n",
        "        \n",
        "        avg_loss = np.mean(np.array(losses))\n",
        "\n",
        "        yield net, avg_loss, epoch    "
      ],
      "execution_count": null,
      "outputs": []
    },
    {
      "cell_type": "markdown",
      "metadata": {
        "id": "uEbn5EpeKMIm"
      },
      "source": [
        "We also define the functions for making predictions and calculating accuracy.\n",
        "\n",
        "\n",
        "*   `oneHot` one-hot encodes labels and `reverseOneHot` does the inverse. It also converts the output of the model into a prediction\n",
        "*   `predict` makes predictions when given data. `accuracy` evaluates prediction accuracy\n",
        "\n"
      ]
    },
    {
      "cell_type": "code",
      "metadata": {
        "id": "QJtz04X6gG8l"
      },
      "source": [
        "# One hot encoder\n",
        "def oneHot(y):\n",
        "    # Initializing the one hot array\n",
        "    y_onehot = np.zeros((y.shape[0], 55))\n",
        "  \n",
        "    for i in range(y.shape[0]):\n",
        "        for j in range(5):\n",
        "            curr = y[i][j]\n",
        "            y_onehot[i][j*11 + curr] = 1\n",
        "\n",
        "    return y_onehot\n",
        "\n",
        "# Converts y back to a label\n",
        "def reverseOneHot(y):\n",
        "    # Initialize label array\n",
        "    y_out = np.zeros((y.shape[0], 5))\n",
        "\n",
        "    for i in range(y.shape[0]):\n",
        "        for j in range(0,5): \n",
        "            y_out[i][j] = np.argmax(y[i][j*11:j*11+11]) % 11\n",
        "    \n",
        "    return y_out\n",
        "\n",
        "# Predict the labels of x\n",
        "def predict(net, x):\n",
        "    test_loader = torch.utils.data.DataLoader(x, batch_size=500, shuffle=False)\n",
        "\n",
        "    predictions = []\n",
        "    net = net.to(torch.device('cuda'))\n",
        "    net.eval()\n",
        "    \n",
        "    with torch.no_grad():\n",
        "        for images in test_loader:\n",
        "            images = images.to(torch.device('cuda'))\n",
        "            outputs = net(images)\n",
        "            predicted = reverseOneHot(outputs.cpu())\n",
        "\n",
        "            for i in range(0, len(predicted)):\n",
        "                predictions.append(predicted[i].astype(np.float32))\n",
        "    \n",
        "    net.train()\n",
        "\n",
        "    return predictions\n",
        "\n",
        "# Get the accuracy of the predictions\n",
        "def accuracy(predictions, labels):\n",
        "    correct = 0\n",
        "    \n",
        "    for i in range(0, len(predictions)):\n",
        "        correct += (np.array_equal(predictions[i], np.array(labels[i])))\n",
        "    \n",
        "    return correct/len(labels)"
      ],
      "execution_count": null,
      "outputs": []
    },
    {
      "cell_type": "markdown",
      "metadata": {
        "id": "bn8neG6Fmlt2"
      },
      "source": [
        "### **Loading modified MNIST dataset**\n",
        "The data is loaded from an h5py file. The training dataset is split into train and validation sets (70%/30%)."
      ]
    },
    {
      "cell_type": "code",
      "metadata": {
        "id": "0oPvwaEGTFGU"
      },
      "source": [
        "# Load MNIST Dataset\n",
        "hf = h5py.File('/content/drive/MyDrive/MNIST_synthetic.h5', 'r')\n",
        "\n",
        "x_test = np.array(hf.get('test_dataset'))\n",
        "x = np.array(hf.get('train_dataset'))\n",
        "y = np.array(hf.get('train_labels'))\n",
        "\n",
        "# Split the data into training and validation sets\n",
        "x_tr, x_val, y_tr, y_val = train_test_split(x, y, test_size=0.3)\n",
        "y_onehot = oneHot(y_tr)\n",
        "\n",
        "# Convert to tensor\n",
        "x_test = torch.tensor(x_test, dtype=torch.float).permute(0,3,1,2)\n",
        "\n",
        "x_tr = torch.tensor(x_tr, dtype=torch.float).permute(0,3,1,2)\n",
        "y_tr = torch.tensor(y_tr, dtype=torch.float)\n",
        "y_onehot = torch.tensor(y_onehot, dtype=torch.float)\n",
        "\n",
        "x_val = torch.tensor(x_val, dtype=torch.float).permute(0,3,1,2)\n",
        "y_val = torch.tensor(y_val, dtype=torch.float)"
      ],
      "execution_count": null,
      "outputs": []
    },
    {
      "cell_type": "markdown",
      "metadata": {
        "id": "MsHVnaN0rWnS"
      },
      "source": [
        "The model is trained. Training loss will tracked every epoch, and validation and training accuracy will be tracked at every 5 epochs."
      ]
    },
    {
      "cell_type": "code",
      "metadata": {
        "id": "akjkKDCwlicH"
      },
      "source": [
        "batch_size = 16\n",
        "num_epochs = 200\n",
        "learning_rate = 0.01\n",
        "momentum = 0.9\n",
        "net, net_info, metrics = train(x_tr, y_onehot, x_val, y_val, num_epochs, batch_size, \n",
        "                              learning_rate=learning_rate, momentum=momentum)"
      ],
      "execution_count": null,
      "outputs": []
    },
    {
      "cell_type": "markdown",
      "metadata": {
        "id": "x9Lx39Z8LBGX"
      },
      "source": [
        "Save the best model and the statistics so that the model doesn't have to be retrained if the information is lost."
      ]
    },
    {
      "cell_type": "code",
      "metadata": {
        "id": "et3yJWFQK_7l"
      },
      "source": [
        "PATH = '/content/drive/MyDrive/Colab/a3/resnet18/resnet18_'+str(net_info[1])+'ep_best_aug.pth'\n",
        "torch.save(net.state_dict(), PATH)\n",
        "\n",
        "# Save important stats in case Colab disconnects\n",
        "PATH = '/content/drive/MyDrive/Colab/a3/resnet18/resnet18_stats.pkl'\n",
        "with open(PATH, 'wb') as handle:\n",
        "    pickle.dump(metrics, handle)"
      ],
      "execution_count": null,
      "outputs": []
    },
    {
      "cell_type": "markdown",
      "metadata": {
        "id": "zQX0PhQaWFqB"
      },
      "source": [
        "### **Training analysis**\n",
        "The metrics obtained from training are plotted here. We plot the training accuracy, validation accuracy, and loss with respect to epoch."
      ]
    },
    {
      "cell_type": "code",
      "metadata": {
        "id": "RvfoCq6WWQKE",
        "colab": {
          "base_uri": "https://localhost:8080/",
          "height": 738
        },
        "outputId": "9cc177ba-18fd-4317-a97f-deabe09b931e"
      },
      "source": [
        "metrics = pd.read_pickle(r'/content/drive/MyDrive/Colab/a3/final/resnet18_stats.pkl')\n",
        "\n",
        "train_accs = metrics[0]\n",
        "val_accs = metrics[1]\n",
        "losses = metrics[2]\n",
        "print(len(train_accs))\n",
        "fig, axs = plt.subplots(4,1,figsize=(5,10))\n",
        "\n",
        "plt.subplot(4,1,1)\n",
        "x_axis = [(5*i)+1 for i in range(len(train_accs))]\n",
        "plt.plot(x_axis, train_accs, label='Training')\n",
        "plt.plot(x_axis, val_accs, label='Validation')\n",
        "plt.xlabel('Epochs')\n",
        "plt.ylabel('Accuracy', fontweight='bold')\n",
        "plt.title('Accuracy of ResNet18 predictions', fontweight='bold')\n",
        "plt.legend()\n",
        "plt.autoscale()\n",
        "plt.ylim((0.9, 1.005))\n",
        "\n",
        "plt.subplot(4,1,2)\n",
        "x_axis = [(5*i)+1 for i in range(len(train_accs[0:5]))]\n",
        "plt.plot(x_axis, train_accs[0:5], label='Training',marker='o')\n",
        "plt.plot(x_axis, val_accs[0:5], label='Validation',marker='o')\n",
        "plt.xlabel('Epochs')\n",
        "plt.ylabel('Accuracy', fontweight='bold')\n",
        "plt.title('Accuracies (Zoomed in)', fontweight='bold')\n",
        "plt.legend()\n",
        "plt.autoscale()\n",
        "plt.ylim((0.9, 1.005))\n",
        "\n",
        "plt.subplot(4,1,3)\n",
        "x_axis = [int(i) for i in range(num_epochs)]\n",
        "plt.plot(x_axis, losses, label='Training')\n",
        "plt.xlabel('Epochs')\n",
        "plt.ylabel('Loss', fontweight='bold')\n",
        "plt.title('Binary Cross-Entropy Loss of ResNet18 predictions', fontweight='bold')\n",
        "plt.autoscale()\n",
        "\n",
        "plt.subplot(4,1,4)\n",
        "x_axis = [int(i) for i in range(25)]\n",
        "plt.plot(x_axis, losses[0:25], label='Training',marker='o')\n",
        "plt.xlabel('Epochs')\n",
        "plt.ylabel('Loss', fontweight='bold')\n",
        "plt.title('Binary Cross-Entropy Loss (Zoomed in)', fontweight='bold')\n",
        "plt.autoscale()\n",
        "\n",
        "plt.tight_layout()\n",
        "plt.subplots_adjust(top=0.95)"
      ],
      "execution_count": null,
      "outputs": [
        {
          "output_type": "stream",
          "text": [
            "40\n"
          ],
          "name": "stdout"
        },
        {
          "output_type": "display_data",
          "data": {
            "image/png": "[encoded data removed]",
            "text/plain": [
              "<Figure size 360x720 with 4 Axes>"
            ]
          },
          "metadata": {
            "tags": [],
            "needs_background": "light"
          }
        }
      ]
    },
    {
      "cell_type": "markdown",
      "metadata": {
        "id": "66wlqc0tMu1Y"
      },
      "source": [
        "### **Predictions on the test set**\n",
        "The predictions are made on the test set and saved as a CSV file to be uploaded to kaggle.\n",
        "\n",
        "\n",
        "*   `listToInt` converts the predictions in the form of an array containing numbers into strings. These strings will be added to a pandas Dataframe and saved as CSV."
      ]
    },
    {
      "cell_type": "code",
      "metadata": {
        "id": "KVvm-6c3K-Ud"
      },
      "source": [
        "# Load the CNN\n",
        "PATH = '/content/drive/MyDrive/Colab/a3/resnet18/resnet18_'+str(net_info[1])+'ep_best_aug.pth'\n",
        "net = ResNet()\n",
        "net.load_state_dict(torch.load(PATH))\n",
        "\n",
        "net_name = split(\"\\.\", basename(PATH))[0]\n",
        "\n",
        "# Make a prediction on the test set\n",
        "y_predict = predict(net, x_test)\n",
        "\n",
        "# Converts a list containing the predictions to an int\n",
        "def listToInt(list):\n",
        "    list = list.astype(np.int32)\n",
        "    result = str(\"\".join(map(str,list)))\n",
        "\n",
        "    return result\n",
        "\n",
        "# Convert all the predictions to an int\n",
        "predictions = []\n",
        "for i in range(len(y_predict)):\n",
        "    predictions.append(listToInt(y_predict[i]))\n",
        "\n",
        "# Save as a csv file\n",
        "df = pd.DataFrame(predictions, columns=['Label'])\n",
        "df.index.name='Id'\n",
        "\n",
        "csv_path = '/content/drive/MyDrive/Colab/a3/resnet18/pred_'+net_name+'_aug.csv'\n",
        "\n",
        "df.to_csv(csv_path)"
      ],
      "execution_count": null,
      "outputs": []
    }
  ]
}
